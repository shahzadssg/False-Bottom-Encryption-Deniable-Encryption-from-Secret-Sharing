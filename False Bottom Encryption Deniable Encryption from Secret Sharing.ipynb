{
 "cells": [
  {
   "cell_type": "markdown",
   "metadata": {},
   "source": [
    "# False-Bottom Encryption: Deniable Encryption from Secret Sharing"
   ]
  },
  {
   "cell_type": "markdown",
   "metadata": {},
   "source": [
    "# Welcome to the official GitHub repository for the research paper \"False-Bottom Encryption: Deniable Encryption from Secret Sharing.\" This repository contains the implementation code referenced in the paper, allowing researchers and enthusiasts to explore and replicate the experiments conducted."
   ]
  },
  {
   "cell_type": "markdown",
   "metadata": {},
   "source": [
    "# Disclaimer:"
   ]
  },
  {
   "cell_type": "markdown",
   "metadata": {},
   "source": [
    "# The code provided in this repository is intended solely for academic and research purposes. It serves as a reference implementation accompanying the research paper \"False-Bottom Encryption: Deniable Encryption from Secret Sharing.\" The authors do not take any responsibility for the usage or consequences of this code in any other context or application outside the scope of the research paper. Users are advised to exercise caution and comply with legal and ethical guidelines when working with steganographic techniques or handling sensitive data."
   ]
  },
  {
   "cell_type": "markdown",
   "metadata": {},
   "source": [
    "# A. SYSTEM INITIALIZATION"
   ]
  },
  {
   "cell_type": "markdown",
   "metadata": {},
   "source": [
    "(C,R) ← INIT(T,N,K)\n",
    "\n",
    "t ∈ N be a parameter that determines the block size of our cipher, and let another parameter n be the number of blocks to initialize the ciphertext. A third parameter k ∈ N will determine the common size of the secret key sk for the message m."
   ]
  },
  {
   "cell_type": "code",
   "execution_count": 1,
   "metadata": {},
   "outputs": [],
   "source": [
    "import random\n",
    "from operator import itemgetter\n",
    "import numpy as np\n",
    "import ast\n",
    "import math                        #importing all the important libraries\n",
    "p=9973                             #prime number\n",
    "def modInverse(a, b):\n",
    "\n",
    "    for j in range(1, b):\n",
    "        if (((a%b) * (j%b)) % b == 1):\n",
    "            return j\n",
    "    return -1\n",
    "b = p                              #creating the modular inverse function to be used in later stages"
   ]
  },
  {
   "cell_type": "markdown",
   "metadata": {},
   "source": [
    "Key Space Generation\n",
    "\n",
    "The key base (or master-key) is chosen as a set of nonzero values {r1, . . . , rk} ⊂_R F^∗ that we store in an arbitrary but fixed order in a vector  r = (r1, . . . , rk)."
   ]
  },
  {
   "cell_type": "code",
   "execution_count": 2,
   "metadata": {},
   "outputs": [
    {
     "name": "stdout",
     "output_type": "stream",
     "text": [
      "Choose the size of key (K): 10\n",
      "A fixed order in a vector (\u001b[1mr\u001b[0m=[r₁,r₂,...,rₖ])\u001b[0m is:  [0, 1, 2, 3, 4, 5, 6, 7, 8, 9]\n",
      "The key base (or master-key) elements (rᵢᵢ, . . . , rᵢₙᵢ) ∈ R are:  [2, 29, 23, 16, 29, 4, 5, 8, 22, 29]\n"
     ]
    }
   ],
   "source": [
    "K=int(input(\"Choose the size of key (K): \")) #this function is use to input the size of key \"K\" and the size of the ciphertext for initialization.\n",
    "r = range(K)                                          #\"r = (r1, . . . , rK)\" but python enumerates from 0 so the first indices of r is r0.\n",
    "indices = [*r]\n",
    "print(\"A fixed order in a vector (\\033[1mr\\033[0m=[r\\u2081,r\\u2082,...,r\\u2096])\\033[0m is: \",indices)\n",
    "R = []                                               #R shows the values at different indices of r \"elements (ri,i, . . . , ri,ni) ∈ R\".          \n",
    "for i in range(0,K):\n",
    "    n = random.randint(1,30)\n",
    "    R.append(n)\n",
    "print(\"The key base (or master-key) elements (r\\u1D62\\u1D62, . . . , r\\u1D62\\u2099\\u1D62) ∈ R are: \", R)"
   ]
  },
  {
   "cell_type": "markdown",
   "metadata": {},
   "source": [
    "Ciphertext initialization\n",
    "\n",
    "c = (α1, . . . , αk) ∈_R F^k."
   ]
  },
  {
   "cell_type": "code",
   "execution_count": 3,
   "metadata": {},
   "outputs": [
    {
     "name": "stdout",
     "output_type": "stream",
     "text": [
      "The values of empty ciphertext [\u001b[1mc\u001b[0m=α₁,....,αₖ] are : [7845, 6969, 6672, 8775, 3563, 7194, 8191, 544, 5618, 1537]\n"
     ]
    }
   ],
   "source": [
    "C=[]\n",
    "for i in range(0,random.randint(K,10)):\n",
    "    n=random.randint(1,p-1)\n",
    "    C.append(n)\n",
    "print(\"The values of empty ciphertext [\\033[1mc\\033[0m=\\u03B1\\u2081,....,\\u03B1\\u2096] are :\",C)"
   ]
  },
  {
   "cell_type": "code",
   "execution_count": null,
   "metadata": {},
   "outputs": [],
   "source": []
  },
  {
   "cell_type": "markdown",
   "metadata": {},
   "source": [
    "# B. ADDING MESSAGES TO THE (EXISTING) CIPHERTEXT"
   ]
  },
  {
   "cell_type": "markdown",
   "metadata": {},
   "source": [
    "(C′, SK1, . . . , SKℓ, SKNEW) ← ENC(C,M, SK1, . . . , SKℓ)"
   ]
  },
  {
   "cell_type": "markdown",
   "metadata": {},
   "source": [
    "Adding the first message"
   ]
  },
  {
   "cell_type": "code",
   "execution_count": 4,
   "metadata": {},
   "outputs": [
    {
     "name": "stdout",
     "output_type": "stream",
     "text": [
      "Enter the message value you want to add: 100\n",
      "The message (m₁) is:  100\n"
     ]
    }
   ],
   "source": [
    "message1= int(input(\"Enter the message value you want to add: \"))\n",
    "if message1<p:\n",
    "   print(\"The message (m\\u2081) is: \", message1)\n",
    "else:\n",
    "     print(\"Warning:The value of message must be less than p\")      #entering the value of m1 ∈ {0, 1}^t for encryption"
   ]
  },
  {
   "cell_type": "markdown",
   "metadata": {},
   "source": [
    "Pick a number ni ∈ {2, . . . , k} or in particular n1 ∈ {2, . . . ,K}"
   ]
  },
  {
   "cell_type": "code",
   "execution_count": 5,
   "metadata": {},
   "outputs": [
    {
     "name": "stdout",
     "output_type": "stream",
     "text": [
      "The value of n₁ is: 9\n",
      "Assigning the indices to n₁ ([ρ₁₁,ρ₂₁,...,ρ₁ₙ₁]) as:  [0, 1, 3, 4, 5, 6, 7, 8, 9]\n",
      "The values [r₁₁,r₂₂,...,r₁ₙ₁] for Message (m₁) are:  [2, 29, 16, 29, 4, 5, 8, 22, 29]\n"
     ]
    }
   ],
   "source": [
    "n1=random.randint(2, K)                  #we pick a number n1 ∈ {2, . . . ,K}.\n",
    "print(\"The value of n\\u2081 is:\",n1)\n",
    "l = random.sample(range(K), n1)\n",
    "l.sort()                         #we're using here sorting command because python always perform indexing in ascending order\n",
    "print(\"Assigning the indices to n\\u2081 ([\\u03C1\\u2081\\u2081,\\u03C1\\u2082\\u2081,...,\\u03C1\\u2081\\u2099\\u2081]) as: \",l)\n",
    "Keys = [k for i, k in enumerate(R) if i in l]\n",
    "print(\"The values [r\\u2081\\u2081,r\\u2082\\u2082,...,r\\u2081\\u2099\\u2081] for Message (m\\u2081) are: \", Keys)"
   ]
  },
  {
   "cell_type": "markdown",
   "metadata": {},
   "source": [
    "Choose n1-1 random values α1,j ∈ c"
   ]
  },
  {
   "cell_type": "code",
   "execution_count": 6,
   "metadata": {},
   "outputs": [
    {
     "name": "stdout",
     "output_type": "stream",
     "text": [
      "The n₁-1 values of Alphas (α₁₁,....,α₁ⱼ) are : [544, 5618, 3563, 6969, 8775, 1537, 7845, 6672]\n"
     ]
    }
   ],
   "source": [
    "#Here j is always one less than n1 or j = (n1-1) or in general j = ni-1.\n",
    "alpha_1j=random.sample(C,n1-1)\n",
    "print(\"The n\\u2081-1 values of Alphas (\\u03B1\\u2081\\u2081,....,\\u03B1\\u2081\\u2C7C) are :\",alpha_1j)         #choose (n1-1) random values α1,j ∈ c."
   ]
  },
  {
   "cell_type": "markdown",
   "metadata": {},
   "source": [
    "Computing the value of α1,n1"
   ]
  },
  {
   "cell_type": "code",
   "execution_count": 7,
   "metadata": {
    "scrolled": true
   },
   "outputs": [
    {
     "name": "stdout",
     "output_type": "stream",
     "text": [
      "The Ciphertext (\u001b[1mc₁\u001b[0m=[α₁₁,α₁₂,...,α₁ₙ₁]) for Message (m₁) is:  [544, 5618, 3563, 6969, 8775, 1537, 7845, 6672, 441]\n"
     ]
    }
   ],
   "source": [
    "x=[K*A1 for K,A1 in zip(Keys,alpha_1j)]    #The indices [j1,j2,...,j(n1-1)] or k1 multiplied to alpha_1j\n",
    "g=sum(x)                                   #summation of all (α1,j*r1,j)\n",
    "alpha_1j.append(((modInverse(Keys[-1],b))*(message1-g))%p)       #inverse of (r1,n1)\n",
    "c1=alpha_1j                                                      \n",
    "print(\"The Ciphertext (\\033[1mc\\u2081\\033[0m=[\\u03B1\\u2081\\u2081,\\u03B1\\u2081\\u2082,...,\\u03B1\\u2081\\u2099\\u2081]) for Message (m\\u2081) is: \", c1)    #c= (α1,1, . . . , α1,n1 )"
   ]
  },
  {
   "cell_type": "markdown",
   "metadata": {},
   "source": [
    "Ciphertext updation\n",
    "c′ ← c∥α"
   ]
  },
  {
   "cell_type": "code",
   "execution_count": 8,
   "metadata": {},
   "outputs": [
    {
     "name": "stdout",
     "output_type": "stream",
     "text": [
      "The Updated Ciphertext (\u001b[1mC\u001b[0m) is:  [7845, 6969, 6672, 8775, 3563, 7194, 8191, 544, 5618, 1537, 441]\n"
     ]
    }
   ],
   "source": [
    "c=list(C)\n",
    "c.extend(y for y in c1 if y not in c)\n",
    "print(\"The Updated Ciphertext (\\033[1mC\\033[0m) is: \", c)          #c ← (c1, α)"
   ]
  },
  {
   "cell_type": "code",
   "execution_count": 9,
   "metadata": {},
   "outputs": [
    {
     "data": {
      "text/plain": [
       "[7845, 6969, 6672, 8775, 3563, 7194, 8191, 544, 5618, 1537]"
      ]
     },
     "execution_count": 9,
     "metadata": {},
     "output_type": "execute_result"
    }
   ],
   "source": [
    "C"
   ]
  },
  {
   "cell_type": "markdown",
   "metadata": {},
   "source": [
    "The secret key as the list of pairs sknew :=\n",
    "((ji,1, ρi,1), . . . , (ji,ni−1, ρi,ni−1), (dim(c)+1, ρi,ni ))\n",
    "\n",
    "Decryption key sk1 for message m1"
   ]
  },
  {
   "cell_type": "code",
   "execution_count": 10,
   "metadata": {},
   "outputs": [
    {
     "name": "stdout",
     "output_type": "stream",
     "text": [
      "The Ciphertext indices (j₁₁,j₁₂,...,j₁ₙ₁) for Message (m₁) is: [7, 8, 4, 1, 3, 9, 0, 2, 10]\n",
      "The Key indices n₁ ([ρ₁₁,ρ₁₂,...,ρ₁ₙ₁]) for Message (m₁) is:  [0, 1, 3, 4, 5, 6, 7, 8, 9]\n",
      "Decryption Key (sk₁) for Message (m₁) are:  [(7, 0), (8, 1), (4, 3), (1, 4), (3, 5), (9, 6), (0, 7), (2, 8), (10, 9)]\n"
     ]
    }
   ],
   "source": [
    "c1 = [c.index(i) for i in c1]                                 #indexing ciphertext c1 \n",
    "print(\"The Ciphertext indices (j\\u2081\\u2081,j\\u2081\\u2082,...,j\\u2081\\u2099\\u2081) for Message (m\\u2081) is: \" + str(c1))\n",
    "print(\"The Key indices n\\u2081 ([\\u03C1\\u2081\\u2081,\\u03C1\\u2081\\u2082,...,\\u03C1\\u2081\\u2099\\u2081]) for Message (m\\u2081) is: \",l)\n",
    "\n",
    "def listOfTuples(c1, l):\n",
    "    return list(map(lambda x, y:(x,y), c1, l))\n",
    "\n",
    "print(\"Decryption Key (sk\\u2081) for Message (m\\u2081) are: \",listOfTuples(c1, l))"
   ]
  },
  {
   "cell_type": "code",
   "execution_count": null,
   "metadata": {},
   "outputs": [],
   "source": []
  },
  {
   "cell_type": "markdown",
   "metadata": {},
   "source": [
    "Adding the second message"
   ]
  },
  {
   "cell_type": "code",
   "execution_count": 11,
   "metadata": {},
   "outputs": [
    {
     "name": "stdout",
     "output_type": "stream",
     "text": [
      "Enter the message value you want to add: 200\n",
      "The message (m₂) is:  200\n"
     ]
    }
   ],
   "source": [
    "message2= int(input(\"Enter the message value you want to add: \"))\n",
    "if message2<p:\n",
    "   print(\"The message (m\\u2082) is: \", message2)\n",
    "else:\n",
    "     print(\"Warning:The value of message must be less than p\")      #entering the value of m2 ∈ {0, 1}^t for encryption"
   ]
  },
  {
   "cell_type": "markdown",
   "metadata": {},
   "source": [
    "Pick a number n2 ∈ {2, . . . ,K}"
   ]
  },
  {
   "cell_type": "code",
   "execution_count": 12,
   "metadata": {},
   "outputs": [
    {
     "name": "stdout",
     "output_type": "stream",
     "text": [
      "The value of n₂ is: 2\n",
      "Assigning the indices to n₂ ([ρ₂₁,ρ₂₂,...,ρ₂ₙ₂]) as:  [1, 4]\n",
      "The values [r₁₁,r₁₂,...,r₁ₙ₁] for Message (m₂) are:  [29, 29]\n"
     ]
    }
   ],
   "source": [
    "n2=random.randint(2, K)                  #we pick a number n1 ∈ {2, . . . ,K}.\n",
    "print(\"The value of n\\u2082 is:\",n2)\n",
    "l = random.sample(range(K), n2)\n",
    "l.sort()                         #we're using here sorting command because python always perform indexing in ascending order\n",
    "print(\"Assigning the indices to n\\u2082 ([\\u03C1\\u2082\\u2081,\\u03C1\\u2082\\u2082,...,\\u03C1\\u2082\\u2099\\u2082]) as: \",l)\n",
    "Keys = [k for i, k in enumerate(R) if i in l]\n",
    "print(\"The values [r\\u2081\\u2081,r\\u2081\\u2082,...,r\\u2081\\u2099\\u2081] for Message (m\\u2082) are: \", Keys)"
   ]
  },
  {
   "cell_type": "markdown",
   "metadata": {},
   "source": [
    "Choose n2-1 random values α1,j ∈ c"
   ]
  },
  {
   "cell_type": "code",
   "execution_count": 13,
   "metadata": {},
   "outputs": [
    {
     "name": "stdout",
     "output_type": "stream",
     "text": [
      "The n₂-1 values of Alphas (α₂₁,....,α₂ⱼ) are : [8191]\n"
     ]
    }
   ],
   "source": [
    "#Here j is always one less than n2 or j = (n2-1) or in general j = ni-1.\n",
    "alpha_2j=random.sample(C,n2-1)\n",
    "print(\"The n\\u2082-1 values of Alphas (\\u03B1\\u2082\\u2081,....,\\u03B1\\u2082\\u2C7C) are :\",alpha_2j)         #choose (n2-1) random values α2,j ∈ c."
   ]
  },
  {
   "cell_type": "markdown",
   "metadata": {},
   "source": [
    "Computing the value of α2,n2"
   ]
  },
  {
   "cell_type": "code",
   "execution_count": 14,
   "metadata": {},
   "outputs": [
    {
     "name": "stdout",
     "output_type": "stream",
     "text": [
      "The Ciphertext (\u001b[1mc₂\u001b[0m=[α₂₁,α₂₂,...,α₂ₙ₂]) for Message (m₂) is:  [8191, 1445]\n"
     ]
    }
   ],
   "source": [
    "x=[K*A1 for K,A1 in zip(Keys,alpha_2j)]    #The indices [j1,j2,...,j(n2-1)] or k1 multiplied to alpha_1j\n",
    "g=sum(x)                                   #summation of all (α2,j*r2,j)\n",
    "alpha_2j.append(((modInverse(Keys[-1],b))*(message2-g))%p)       #inverse of (r2,n2)\n",
    "c2=alpha_2j                                                      \n",
    "print(\"The Ciphertext (\\033[1mc\\u2082\\033[0m=[\\u03B1\\u2082\\u2081,\\u03B1\\u2082\\u2082,...,\\u03B1\\u2082\\u2099\\u2082]) for Message (m\\u2082) is: \", c2)  "
   ]
  },
  {
   "cell_type": "markdown",
   "metadata": {},
   "source": [
    "Ciphertext updation"
   ]
  },
  {
   "cell_type": "code",
   "execution_count": 15,
   "metadata": {},
   "outputs": [
    {
     "name": "stdout",
     "output_type": "stream",
     "text": [
      "The Updated Ciphertext (\u001b[1mC\u001b[0m) is:  [7845, 6969, 6672, 8775, 3563, 7194, 8191, 544, 5618, 1537, 441, 1445]\n"
     ]
    }
   ],
   "source": [
    "c=list(c)\n",
    "c.extend(y for y in c2 if y not in c)\n",
    "print(\"The Updated Ciphertext (\\033[1mC\\033[0m) is: \", c)          #c ← (c2, α)"
   ]
  },
  {
   "cell_type": "markdown",
   "metadata": {},
   "source": [
    "Decryption key sk2 for message m2"
   ]
  },
  {
   "cell_type": "code",
   "execution_count": 16,
   "metadata": {},
   "outputs": [
    {
     "name": "stdout",
     "output_type": "stream",
     "text": [
      "The Ciphertext indices (j₂₁,j₂₂,...,j₂ₙ₂) for Message (m₂) is: [6, 11]\n",
      "The Key indices n₂ ([ρ₂₁,ρ₂₁,...,ρ₂ₙ₂]) for Message (m₂) is:  [1, 4]\n",
      "Decryption Key (sk₂) for Message (m₂) are:  [(6, 1), (11, 4)]\n"
     ]
    }
   ],
   "source": [
    "c2 = [c.index(i) for i in c2]                                 #indexing ciphertext c2 \n",
    "print(\"The Ciphertext indices (j\\u2082\\u2081,j\\u2082\\u2082,...,j\\u2082\\u2099\\u2082) for Message (m\\u2082) is: \" + str(c2))\n",
    "print(\"The Key indices n\\u2082 ([\\u03C1\\u2082\\u2081,\\u03C1\\u2082\\u2081,...,\\u03C1\\u2082\\u2099\\u2082]) for Message (m\\u2082) is: \",l)\n",
    "\n",
    "def listOfTuples(c2, l):\n",
    "    return list(map(lambda x, y:(x,y), c2, l))\n",
    "print(\"Decryption Key (sk\\u2082) for Message (m\\u2082) are: \",listOfTuples(c2, l))"
   ]
  },
  {
   "cell_type": "code",
   "execution_count": null,
   "metadata": {},
   "outputs": [],
   "source": []
  },
  {
   "cell_type": "markdown",
   "metadata": {},
   "source": [
    "Adding i-th message to the existing ciphertext"
   ]
  },
  {
   "cell_type": "code",
   "execution_count": 17,
   "metadata": {},
   "outputs": [
    {
     "name": "stdout",
     "output_type": "stream",
     "text": [
      "Enter the message value you want to add: 300\n",
      "The message (mᵢ) is:  300\n"
     ]
    }
   ],
   "source": [
    "message_i= int(input(\"Enter the message value you want to add: \"))          #Let mi be the new message\n",
    "if message_i<p:\n",
    "   print(\"The message (m\\u1D62) is: \", message_i)\n",
    "else:\n",
    "     print(\"The value of message must be less than p\")"
   ]
  },
  {
   "cell_type": "markdown",
   "metadata": {},
   "source": [
    "Pick a number ni ∈ {2, . . . ,K}"
   ]
  },
  {
   "cell_type": "code",
   "execution_count": 18,
   "metadata": {},
   "outputs": [
    {
     "name": "stdout",
     "output_type": "stream",
     "text": [
      "The value of nᵢ is: 3\n",
      "Assigning the indices to nᵢ ([ρᵢ₁,ρᵢ₂,...,ρᵢₙᵢ]) as:  [1, 5, 8]\n",
      "The values [rᵢ₁,rᵢ₂,...,rᵢₙᵢ] for Message (mᵢ) are:  [29, 4, 22]\n"
     ]
    }
   ],
   "source": [
    "ni=random.randint(2, K-1)                  #we pick a number ni ∈ {2, . . . ,K}.\n",
    "print(\"The value of n\\u1D62 is:\",ni)\n",
    "l2 = random.sample(range(K-1), ni)\n",
    "l2.sort()                         #we're using here sorting command because python always perform indexing in ascending order\n",
    "print(\"Assigning the indices to n\\u1D62 ([\\u03C1\\u1D62\\u2081,\\u03C1\\u1D62\\u2082,...,\\u03C1\\u1D62\\u2099\\u1D62]) as: \",l2)\n",
    "Keys = [k for i, k in enumerate(R) if i in l2]\n",
    "print(\"The values [r\\u1D62\\u2081,r\\u1D62\\u2082,...,r\\u1D62\\u2099\\u1D62] for Message (m\\u1D62) are: \", Keys)"
   ]
  },
  {
   "cell_type": "markdown",
   "metadata": {},
   "source": [
    "Choose ni-1 random values αi,j ∈ c"
   ]
  },
  {
   "cell_type": "code",
   "execution_count": 19,
   "metadata": {},
   "outputs": [
    {
     "name": "stdout",
     "output_type": "stream",
     "text": [
      "The nᵢ-1 values of Alphas (αᵢ₁,....,αᵢₙᵢ) are : [6969, 544]\n"
     ]
    }
   ],
   "source": [
    "alpha_ij=random.sample(C,ni-1)\n",
    "print(\"The n\\u1D62-1 values of Alphas (\\u03B1\\u1D62\\u2081,....,\\u03B1\\u1D62\\u2099\\u1D62) are :\",alpha_ij)         #choose (n1-1) random values α1,j ∈ c."
   ]
  },
  {
   "cell_type": "markdown",
   "metadata": {},
   "source": [
    "Computing the value of α"
   ]
  },
  {
   "cell_type": "code",
   "execution_count": 20,
   "metadata": {},
   "outputs": [
    {
     "name": "stdout",
     "output_type": "stream",
     "text": [
      "The Ciphertext (\u001b[1mcᵢ\u001b[0m) for Message (mᵢ) is:  [6969, 544, 248]\n"
     ]
    }
   ],
   "source": [
    "x=[K*A1 for K,A1 in zip(Keys,alpha_ij)]\n",
    "g=sum(x)                                                             #summation of all (αij*rij)\n",
    "alpha_ij.append(((modInverse(Keys[-1],b))*(message_i-g))%p)          #inverse of (ri,ni)\n",
    "ci=alpha_ij\n",
    "print(\"The Ciphertext (\\033[1mc\\u1D62\\033[0m) for Message (m\\u1D62) is: \", ci)"
   ]
  },
  {
   "cell_type": "markdown",
   "metadata": {},
   "source": [
    "Ciphertext updation "
   ]
  },
  {
   "cell_type": "code",
   "execution_count": 21,
   "metadata": {},
   "outputs": [
    {
     "name": "stdout",
     "output_type": "stream",
     "text": [
      "The Updated Ciphertext (\u001b[1mC\u001b[0m) is:  [7845, 6969, 6672, 8775, 3563, 7194, 8191, 544, 5618, 1537, 441, 1445, 248]\n"
     ]
    }
   ],
   "source": [
    "c=list(c)\n",
    "c.extend(y for y in ci if y not in c)\n",
    "print(\"The Updated Ciphertext (\\033[1mC\\033[0m) is: \", c)          #c ← (ci, α)"
   ]
  },
  {
   "cell_type": "code",
   "execution_count": 22,
   "metadata": {},
   "outputs": [
    {
     "data": {
      "text/plain": [
       "[7845, 6969, 6672, 8775, 3563, 7194, 8191, 544, 5618, 1537, 441, 1445, 248]"
      ]
     },
     "execution_count": 22,
     "metadata": {},
     "output_type": "execute_result"
    }
   ],
   "source": [
    "c"
   ]
  },
  {
   "cell_type": "markdown",
   "metadata": {},
   "source": [
    "Decryption key ski for message mi"
   ]
  },
  {
   "cell_type": "code",
   "execution_count": 23,
   "metadata": {},
   "outputs": [
    {
     "name": "stdout",
     "output_type": "stream",
     "text": [
      "The Ciphertext indices ([jᵢ₁,jᵢ₂,...,jᵢₙᵢ]) for Message (mᵢ) is: [1, 7, 12]\n",
      "The Key indices nᵢ ([ρᵢ₁,ρᵢ₁,...,ρᵢₙᵢ]) for Message (mᵢ) is:  [1, 5, 8]\n",
      "Decryption Key (skᵢ) for Message (mᵢ) are:  [(1, 1), (7, 5), (12, 8)]\n"
     ]
    }
   ],
   "source": [
    "ci = [c.index(i) for i in ci]                                 #indexing ciphertext ci \n",
    "print(\"The Ciphertext indices ([j\\u1D62\\u2081,j\\u1D62\\u2082,...,j\\u1D62\\u2099\\u1D62]) for Message (m\\u1D62) is: \" + str(ci))\n",
    "print(\"The Key indices n\\u1D62 ([\\u03C1\\u1D62\\u2081,\\u03C1\\u1D62\\u2081,...,\\u03C1\\u1D62\\u2099\\u1D62]) for Message (m\\u1D62) is: \",l2)\n",
    "\n",
    "def listOfTuples(ci, l2):\n",
    "    return list(map(lambda x, y:(x,y), ci, l2))\n",
    "\n",
    "print(\"Decryption Key (sk\\u1D62) for Message (m\\u1D62) are: \",listOfTuples(ci, l2))"
   ]
  },
  {
   "cell_type": "markdown",
   "metadata": {},
   "source": [
    "# C. DECRYPTION OF THE I-TH MESSAGE Mi ← DEC(C, SKi )"
   ]
  },
  {
   "cell_type": "markdown",
   "metadata": {},
   "source": [
    "Decryption of an arbitrary message"
   ]
  },
  {
   "cell_type": "code",
   "execution_count": 24,
   "metadata": {},
   "outputs": [
    {
     "name": "stdout",
     "output_type": "stream",
     "text": [
      "Enter the list of ciphertext: [7845, 6969, 6672, 8775, 3563, 7194, 8191, 544, 5618, 1537, 441, 1445, 248]\n",
      "The Ciphertext (\u001b[1mC\u001b[0m) is:  [7845, 6969, 6672, 8775, 3563, 7194, 8191, 544, 5618, 1537, 441, 1445, 248]\n"
     ]
    }
   ],
   "source": [
    "c=list(map(int, ' '.join(str(x) for x in ast.literal_eval(input(\"Enter the list of ciphertext: \"))).split()))\n",
    "print(\"The Ciphertext (\\033[1mC\\033[0m) is: \", c)"
   ]
  },
  {
   "cell_type": "code",
   "execution_count": 25,
   "metadata": {},
   "outputs": [
    {
     "name": "stdout",
     "output_type": "stream",
     "text": [
      "Enter the size of key (tuple) : 2\n",
      "6 1\n",
      "11 4\n",
      "Check your Decryption key: [(6, 1), (11, 4)]\n"
     ]
    }
   ],
   "source": [
    "sizeofkey = list(tuple(map(int,input().split())) for r in range(int(input('Enter the size of key (tuple) : '))))  \n",
    "print(\"Check your Decryption key:\",sizeofkey)"
   ]
  },
  {
   "cell_type": "code",
   "execution_count": 27,
   "metadata": {},
   "outputs": [
    {
     "name": "stdout",
     "output_type": "stream",
     "text": [
      "The Key values [rᵢ₁,rᵢ₂,...,rᵢₙᵢ]: [29, 29]\n",
      "The Ciphertext (\u001b[1mc\u001b[0m=[αᵢ₁,αᵢ₂,...,αᵢₙᵢ]): [8191, 1445]\n",
      "The desired message is: 200\n"
     ]
    }
   ],
   "source": [
    "cipher = [lis[-2] for lis in sizeofkey]\n",
    "key = [lis[-1] for lis in sizeofkey]\n",
    "K_dec = list(itemgetter(*key)(R))\n",
    "C_dec = list(itemgetter(*cipher)(c))\n",
    "print(\"The Key values [r\\u1D62\\u2081,r\\u1D62\\u2082,...,r\\u1D62\\u2099\\u1D62]:\", K_dec)\n",
    "print(\"The Ciphertext (\\033[1mc\\033[0m=[\\u03B1\\u1D62\\u2081,\\u03B1\\u1D62\\u2082,...,\\u03B1\\u1D62\\u2099\\u1D62]):\", C_dec)\n",
    "m_i=(sum([elements*A for elements,A in zip(K_dec,C_dec)]))%p\n",
    "print(\"The desired message is:\",m_i)"
   ]
  },
  {
   "cell_type": "code",
   "execution_count": null,
   "metadata": {},
   "outputs": [],
   "source": []
  },
  {
   "cell_type": "markdown",
   "metadata": {},
   "source": [
    "# D. CHANGING PLAINTEXTS INSIDE C\n",
    "C′ ← UPDATE(C,M, SK1, . . . , SKℓ,M′)\n",
    "\n",
    "Changing plaintexts inside c can be done in two ways:"
   ]
  },
  {
   "cell_type": "markdown",
   "metadata": {},
   "source": [
    "Method1:By changing atleast one value of ciphertext \n",
    "\n",
    "Here we are changing message 2nd with some other message"
   ]
  },
  {
   "cell_type": "code",
   "execution_count": 28,
   "metadata": {},
   "outputs": [],
   "source": [
    "UL=[8191]         #n-1 alphas list of respective message\n",
    "UK=[29, 29]                  #Key values of respective message"
   ]
  },
  {
   "cell_type": "code",
   "execution_count": 29,
   "metadata": {},
   "outputs": [
    {
     "name": "stdout",
     "output_type": "stream",
     "text": [
      "Enter the message value that you want to add: 500\n",
      "The Updated Ciphertext (\u001b[1mc₂\u001b[0m=[α₁₁,α₁₂,...,α₁ₙ₁]) for Message (m₂) is:  [8191, 5926]\n",
      "The old Ciphertext (\u001b[1mc₂\u001b[0m=[α₂₁,α₂₂,...,α₂ₙ₂]) for Message (m₂) was:  [8191, 1445]\n"
     ]
    }
   ],
   "source": [
    "x=[K*A1 for K,A1 in zip(UK,UL)]            #The indices [ji1,ji2,...,j(ni-1)] or k1 multiplied to alpha_1j\n",
    "g=sum(x)                                   #summation of all (αi,j*ri,j)\n",
    "m= int(input(\"Enter the message value that you want to add: \"))\n",
    "UL.append(((modInverse(UK[-1],b))*(m-g))%p)       #inverse of (ri,ni)   #m=message that you want add\n",
    "UC=UL                                                      \n",
    "print(\"The Updated Ciphertext (\\033[1mc\\u2082\\033[0m=[\\u03B1\\u2081\\u2081,\\u03B1\\u2081\\u2082,...,\\u03B1\\u2081\\u2099\\u2081]) for Message (m\\u2082) is: \", UC)    #c= (α1,1, . . . , α1,n1 )\n",
    "print(\"The old Ciphertext (\\033[1mc\\u2082\\033[0m=[\\u03B1\\u2082\\u2081,\\u03B1\\u2082\\u2082,...,\\u03B1\\u2082\\u2099\\u2082]) for Message (m\\u2082) was: \", alpha_2j)"
   ]
  },
  {
   "cell_type": "markdown",
   "metadata": {},
   "source": [
    "Method 2nd:Having the same size of keys (n) but with different values"
   ]
  },
  {
   "cell_type": "code",
   "execution_count": 30,
   "metadata": {},
   "outputs": [],
   "source": [
    "UL=[8191]            #n-1 alphas list \n",
    "UK=[29,12]              #size of the key is same but different values but we have to put the indices of keys accordingly in order to decrypt it."
   ]
  },
  {
   "cell_type": "code",
   "execution_count": 31,
   "metadata": {},
   "outputs": [
    {
     "name": "stdout",
     "output_type": "stream",
     "text": [
      "Enter the message value that you want to add: 500\n",
      "The Updated Ciphertext (\u001b[1mc₂\u001b[0m=[α₁₁,α₁₂,...,α₁ₙ₁]) for Message (m₂) is:  [8191, 2686]\n",
      "The old Ciphertext (\u001b[1mc₂\u001b[0m=[α₂₁,α₂₂,...,α₂ₙ₂]) for Message (m₂) was:  [8191, 1445]\n"
     ]
    }
   ],
   "source": [
    "x=[K*A1 for K,A1 in zip(UK,UL)]            #The indices [ji1,ji2,...,j(ni-1)] or k1 multiplied to alpha_1j\n",
    "g=sum(x)                                   #summation of all (αi,j*ri,j)\n",
    "m= int(input(\"Enter the message value that you want to add: \"))\n",
    "UL.append(((modInverse(UK[-1],b))*(m-g))%p)       #inverse of (ri,ni)   #m=message that you want add\n",
    "UC=UL                                                      \n",
    "print(\"The Updated Ciphertext (\\033[1mc\\u2082\\033[0m=[\\u03B1\\u2081\\u2081,\\u03B1\\u2081\\u2082,...,\\u03B1\\u2081\\u2099\\u2081]) for Message (m\\u2082) is: \", UC)    #c= (α1,1, . . . , α1,n1 )\n",
    "print(\"The old Ciphertext (\\033[1mc\\u2082\\033[0m=[\\u03B1\\u2082\\u2081,\\u03B1\\u2082\\u2082,...,\\u03B1\\u2082\\u2099\\u2082]) for Message (m\\u2082) was: \", alpha_2j)"
   ]
  },
  {
   "cell_type": "code",
   "execution_count": null,
   "metadata": {},
   "outputs": [],
   "source": []
  },
  {
   "cell_type": "markdown",
   "metadata": {},
   "source": [
    "# E. Deleting a message"
   ]
  },
  {
   "cell_type": "code",
   "execution_count": 32,
   "metadata": {},
   "outputs": [
    {
     "name": "stdout",
     "output_type": "stream",
     "text": [
      "Enter the list of ciphertext: [7845, 6969, 6672, 8775, 3563, 7194, 8191, 544, 5618, 1537, 441, 1445, 248]\n",
      "The ciphertext is:  [7845, 6969, 6672, 8775, 3563, 7194, 8191, 544, 5618, 1537, 441, 1445, 248]\n"
     ]
    }
   ],
   "source": [
    "c_del=list(map(int, ' '.join(str(x) for x in ast.literal_eval(input(\"Enter the list of ciphertext: \"))).split()))\n",
    "print(\"The ciphertext is: \", c_del)"
   ]
  },
  {
   "cell_type": "markdown",
   "metadata": {},
   "source": [
    "To delete any message from ciphertext just change a sinlge value of its respective ciphertext which is not used by any other message by any random value.\n",
    "Here we are deleting the last added message"
   ]
  },
  {
   "cell_type": "code",
   "execution_count": 33,
   "metadata": {},
   "outputs": [
    {
     "name": "stdout",
     "output_type": "stream",
     "text": [
      "The ciphertext is:  [7845, 6969, 6672, 8775, 3563, 7194, 8191, 544, 5618, 1537, 441, 1445, 999]\n"
     ]
    }
   ],
   "source": [
    "c_del[-1]=999                #here we are deleting the last added message     \n",
    "print(\"The ciphertext is: \", c_del)"
   ]
  },
  {
   "cell_type": "code",
   "execution_count": 34,
   "metadata": {},
   "outputs": [
    {
     "name": "stdout",
     "output_type": "stream",
     "text": [
      "Enter the size of key (tuple) : 3\n",
      "1 1\n",
      "7 5\n",
      "12 8\n",
      "Check your Decryption key: [(1, 1), (7, 5), (12, 8)]\n"
     ]
    }
   ],
   "source": [
    "sizeofkey = list(tuple(map(int,input().split())) for r in range(int(input('Enter the size of key (tuple) : '))))  \n",
    "print(\"Check your Decryption key:\",sizeofkey)"
   ]
  },
  {
   "cell_type": "code",
   "execution_count": 35,
   "metadata": {},
   "outputs": [
    {
     "name": "stdout",
     "output_type": "stream",
     "text": [
      "The desired message is: 6849\n",
      "The old message was: 300\n"
     ]
    }
   ],
   "source": [
    "cipher = [lis[-2] for lis in sizeofkey]\n",
    "key = [lis[-1] for lis in sizeofkey]\n",
    "K_del = list(itemgetter(*key)(R))\n",
    "C_del = list(itemgetter(*cipher)(c_del))\n",
    "m_d=(sum([elements*A for elements,A in zip(K_del,C_del)]))%p\n",
    "print(\"The desired message is:\",m_d)\n",
    "print(\"The old message was:\",message_i)"
   ]
  },
  {
   "cell_type": "code",
   "execution_count": null,
   "metadata": {},
   "outputs": [],
   "source": []
  }
 ],
 "metadata": {
  "kernelspec": {
   "display_name": "Python 3",
   "language": "python",
   "name": "python3"
  },
  "language_info": {
   "codemirror_mode": {
    "name": "ipython",
    "version": 3
   },
   "file_extension": ".py",
   "mimetype": "text/x-python",
   "name": "python",
   "nbconvert_exporter": "python",
   "pygments_lexer": "ipython3",
   "version": "3.8.5"
  }
 },
 "nbformat": 4,
 "nbformat_minor": 4
}
